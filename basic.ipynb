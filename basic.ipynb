{
 "cells": [
  {
   "cell_type": "markdown",
   "metadata": {},
   "source": [
    "#### Operaciones básicas"
   ]
  },
  {
   "cell_type": "code",
   "execution_count": 4,
   "metadata": {},
   "outputs": [
    {
     "name": "stdout",
     "output_type": "stream",
     "text": [
      "z1 =  3.0 + i 4.0\n",
      "(4+6j)\n",
      "(2+2j)\n",
      "(-5+10j)\n",
      "(2.2-0.4j)\n",
      "fase de z:  0.9272952180016122\n",
      "Módulo de z:  5.0\n",
      "(5.0, 0.9272952180016122)  es la forma polar de z1\n",
      "z1 =  (3.0000000000000004+3.9999999999999996j)\n",
      "<built-in method conjugate of complex object at 0x7bc6c7b61a30>\n"
     ]
    }
   ],
   "source": [
    "import cmath\n",
    "\n",
    "z1 = complex(3, 4)\n",
    "z2 = complex(1, 2)\n",
    "\n",
    "print(\"z1 = \", z1.real, \"+ i\", z1.imag)\n",
    "\n",
    "suma = z1 + z2\n",
    "resta = z1 - z2\n",
    "multiplicacion = z1 * z2\n",
    "division = z1 / z2\n",
    "\n",
    "print(suma)          # Suma: (4+6j)\n",
    "print(resta)         # Resta: (2+2j)\n",
    "print(multiplicacion) # Multiplicación: (-5+10j)\n",
    "print(division)      # División: (2.2-0.4j)\n",
    "\n",
    "# Fase (en radianes) y módulo:\n",
    "print(\"fase de z: \", cmath.phase(z1))\n",
    "print(\"Módulo de z: \", abs(z1))\n",
    "\n",
    "# Pasar de polar a rectilineas:\n",
    "w1 = cmath.polar(z1)\n",
    "print(w1, \" es la forma polar de z1\")\n",
    "r1 = cmath.rect(w1[0], w1[1])\n",
    "print(\"z1 = \", r1)\n",
    "\n",
    "# Conjugado\n",
    "print(z1.conjugate)"
   ]
  },
  {
   "cell_type": "markdown",
   "metadata": {},
   "source": [
    "#### Gráfico de números complejos"
   ]
  },
  {
   "cell_type": "code",
   "execution_count": 64,
   "metadata": {},
   "outputs": [],
   "source": [
    "import matplotlib.pyplot as plt\n",
    "\n",
    "def graficar_numero_complejo(z,limx=1,limy=1,z_0=complex(0,0)):    \n",
    "    plt.arrow(z_0.real, z_0.imag, z.real, z.imag, head_width=0.1, head_length=0.3, fc='darkgreen', ec='darkgreen', zorder=1)\n",
    "    plt.axhline(0, color='black',linewidth=0.5)\n",
    "    plt.axvline(0, color='black',linewidth=0.5)\n",
    "    plt.xticks(range(-limx, limx+1, 1))\n",
    "    plt.yticks(range(-limy, limy+1, 1))\n",
    "    plt.tick_params(axis='both', which='both', direction='in', length=6, width=1)\n",
    "    plt.xlim(-limx, limx)\n",
    "    plt.ylim(-limy, limy)\n",
    "    "
   ]
  },
  {
   "cell_type": "code",
   "execution_count": 65,
   "metadata": {},
   "outputs": [
    {
     "data": {
      "image/png": "[encoded data removed]",
      "text/plain": [
       "<Figure size 640x480 with 1 Axes>"
      ]
     },
     "metadata": {},
     "output_type": "display_data"
    }
   ],
   "source": [
    "graficar_numero_complejo(z1,limx=5,limy=5)"
   ]
  },
  {
   "cell_type": "markdown",
   "metadata": {},
   "source": [
    "#### Series"
   ]
  },
  {
   "cell_type": "code",
   "execution_count": 162,
   "metadata": {},
   "outputs": [],
   "source": [
    "def graficar_serie(z, z_0, limx=5, limy=5):\n",
    "    plt.arrow(z_0.real, z_0.imag, z.real, z.imag, head_width=0.001, head_length=0.001, fc='darkgreen', ec='darkgreen', zorder=1)\n",
    "    plt.axhline(0, color='black',linewidth=0.5)\n",
    "    plt.axvline(0, color='black',linewidth=0.5)\n",
    "    plt.xticks(range(-limx, limx+1, 1))\n",
    "    plt.yticks(range(-limy, limy+1, 1))\n",
    "    plt.tick_params(axis='both', which='both', direction='in', length=6, width=1)\n",
    "    plt.xlim(-limx, limx)\n",
    "    plt.ylim(-limy, limy)\n",
    "\n",
    "def termino_i(i):\n",
    "    z = complex(1/2, 1/2)\n",
    "    return (z**i)\n",
    "\n",
    "def serie(n,xlim=5,ylim=5):\n",
    "    sumatotal = complex(0,0)\n",
    "    origen = complex(0,0)\n",
    "    for i in range(1,n):\n",
    "        termino_actual = termino_i(i)\n",
    "        sumatotal += termino_actual\n",
    "        graficar_serie(termino_actual, origen, limx=xlim, limy=ylim)\n",
    "        origen = sumatotal"
   ]
  },
  {
   "cell_type": "code",
   "execution_count": 165,
   "metadata": {},
   "outputs": [
    {
     "data": {
      "text/plain": [
       "<function matplotlib.pyplot.show(close=None, block=None)>"
      ]
     },
     "execution_count": 165,
     "metadata": {},
     "output_type": "execute_result"
    },
    {
     "data": {
      "image/png": "[encoded data removed]",
      "text/plain": [
       "<Figure size 640x480 with 1 Axes>"
      ]
     },
     "metadata": {},
     "output_type": "display_data"
    }
   ],
   "source": [
    "serie(200,xlim=3,ylim=3)\n",
    "plt.show"
   ]
  },
  {
   "cell_type": "code",
   "execution_count": null,
   "metadata": {},
   "outputs": [],
   "source": []
  },
  {
   "cell_type": "code",
   "execution_count": null,
   "metadata": {},
   "outputs": [],
   "source": []
  }
 ],
 "metadata": {
  "kernelspec": {
   "display_name": "Python 3",
   "language": "python",
   "name": "python3"
  },
  "language_info": {
   "codemirror_mode": {
    "name": "ipython",
    "version": 3
   },
   "file_extension": ".py",
   "mimetype": "text/x-python",
   "name": "python",
   "nbconvert_exporter": "python",
   "pygments_lexer": "ipython3",
   "version": "3.10.12"
  }
 },
 "nbformat": 4,
 "nbformat_minor": 2
}
