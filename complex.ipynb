{
 "cells": [
  {
   "cell_type": "markdown",
   "metadata": {},
   "source": [
    "#### Operaciones básicas"
   ]
  },
  {
   "cell_type": "code",
   "execution_count": 23,
   "metadata": {},
   "outputs": [
    {
     "name": "stdout",
     "output_type": "stream",
     "text": [
      "z1 =  3.0 + i 4.0\n",
      "(4+6j)\n",
      "(2+2j)\n",
      "(-5+10j)\n",
      "(2.2-0.4j)\n",
      "fase de z:  0.9272952180016122\n",
      "Módulo de z:  5.0\n",
      "(5.0, 0.9272952180016122)  es la forma polar de z1\n",
      "z1 =  (3.0000000000000004+3.9999999999999996j)\n",
      "<built-in method conjugate of complex object at 0x7c8d10277670>\n"
     ]
    }
   ],
   "source": [
    "import cmath\n",
    "\n",
    "z1 = complex(3, 4)\n",
    "z2 = complex(1, 2)\n",
    "\n",
    "print(\"z1 = \", z1.real, \"+ i\", z1.imag)\n",
    "\n",
    "suma = z1 + z2\n",
    "resta = z1 - z2\n",
    "multiplicacion = z1 * z2\n",
    "division = z1 / z2\n",
    "\n",
    "print(suma)          # Suma: (4+6j)\n",
    "print(resta)         # Resta: (2+2j)\n",
    "print(multiplicacion) # Multiplicación: (-5+10j)\n",
    "print(division)      # División: (2.2-0.4j)\n",
    "\n",
    "# Fase (en radianes) y módulo:\n",
    "print(\"fase de z: \", cmath.phase(z1))\n",
    "print(\"Módulo de z: \", abs(z1))\n",
    "\n",
    "# Pasar de polar a rectilineas:\n",
    "w1 = cmath.polar(z1)\n",
    "print(w1, \" es la forma polar de z1\")\n",
    "r1 = cmath.rect(w1[0], w1[1])\n",
    "print(\"z1 = \", r1)\n",
    "\n",
    "# Conjugado\n",
    "print(z1.conjugate)"
   ]
  },
  {
   "cell_type": "code",
   "execution_count": 10,
   "metadata": {},
   "outputs": [
    {
     "name": "stdout",
     "output_type": "stream",
     "text": [
      "z1 =  3.0 + i 4.0\n"
     ]
    }
   ],
   "source": [
    "\n"
   ]
  },
  {
   "cell_type": "markdown",
   "metadata": {},
   "source": [
    "#### Gráfico de números complejos"
   ]
  },
  {
   "cell_type": "code",
   "execution_count": 4,
   "metadata": {},
   "outputs": [
    {
     "ename": "ModuleNotFoundError",
     "evalue": "No module named 'matplotlib'",
     "output_type": "error",
     "traceback": [
      "\u001b[0;31m---------------------------------------------------------------------------\u001b[0m",
      "\u001b[0;31mModuleNotFoundError\u001b[0m                       Traceback (most recent call last)",
      "Cell \u001b[0;32mIn[4], line 1\u001b[0m\n\u001b[0;32m----> 1\u001b[0m \u001b[38;5;28;01mimport\u001b[39;00m \u001b[38;5;21;01mmatplotlib\u001b[39;00m\n",
      "\u001b[0;31mModuleNotFoundError\u001b[0m: No module named 'matplotlib'"
     ]
    }
   ],
   "source": [
    "import matplotlib"
   ]
  },
  {
   "cell_type": "code",
   "execution_count": null,
   "metadata": {},
   "outputs": [],
   "source": []
  }
 ],
 "metadata": {
  "kernelspec": {
   "display_name": "Python 3",
   "language": "python",
   "name": "python3"
  },
  "language_info": {
   "codemirror_mode": {
    "name": "ipython",
    "version": 3
   },
   "file_extension": ".py",
   "mimetype": "text/x-python",
   "name": "python",
   "nbconvert_exporter": "python",
   "pygments_lexer": "ipython3",
   "version": "3.10.12"
  }
 },
 "nbformat": 4,
 "nbformat_minor": 2
}
